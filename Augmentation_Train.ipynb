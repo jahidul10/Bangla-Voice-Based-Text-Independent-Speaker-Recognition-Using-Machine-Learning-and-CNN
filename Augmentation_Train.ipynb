{
 "cells": [
  {
   "cell_type": "code",
   "execution_count": 25,
   "id": "49bdb2b3",
   "metadata": {},
   "outputs": [],
   "source": [
    "import os\n",
    "import augly.audio as audaugs\n",
    "import augly.utils as utils\n",
    "from IPython.display import display, Audio\n",
    "import librosa\n",
    "import torch\n",
    "import numpy as np\n",
    "from torchaudio import sox_effects\n",
    "import soundfile as sf\n",
    "from tqdm import tqdm"
   ]
  },
  {
   "cell_type": "code",
   "execution_count": 26,
   "id": "f4fc10b2",
   "metadata": {},
   "outputs": [
    {
     "name": "stdout",
     "output_type": "stream",
     "text": [
      "End of Augmentation....\n"
     ]
    }
   ],
   "source": [
    "directory = \"C:/Users/ASUS/OneDrive - BUET/Desktop/SR_DSP/Train Data\"\n",
    "aug_directory = \"F:\\Augmentated_Train\"\n",
    "for root, subdirectories, files in os.walk(directory):\n",
    "    for subdirectory in subdirectories:\n",
    "            file_count = 1\n",
    "            for files in os.listdir(os.path.join(root, subdirectory)):\n",
    "                \n",
    "                x,sr = librosa.load(os.path.join(root, subdirectory)+\"/\"+ str(files),sr = 44100)\n",
    "                x = np.array(x)\n",
    "                x.resize(3*sr)\n",
    "                \n",
    "                aug_audio,sr = audaugs.pitch_shift(x, n_steps=3.0)\n",
    "                c = 1\n",
    "                sf.write(aug_directory +\"/\" + str(subdirectory)+\"/\"+str(subdirectory)+\"_\"+str(file_count)+\"_\"+str(c)+\".wav\", aug_audio, sr, 'PCM_16')\n",
    "                \n",
    "                \n",
    "                aug_audio,sr = audaugs.time_stretch(x,rate=0.5)\n",
    "                aug_audio1 = aug_audio[0:3*44100]\n",
    "                c = c+1\n",
    "                sf.write(aug_directory +\"/\" + str(subdirectory)+\"/\"+str(subdirectory)+\"_\"+str(file_count)+\"_\"+str(c)+\".wav\", aug_audio1, sr, 'PCM_16')\n",
    "                aug_audio2 = aug_audio[3*44100:6*44100]\n",
    "                c = c+1\n",
    "                sf.write(aug_directory +\"/\" + str(subdirectory)+\"/\"+str(subdirectory)+\"_\"+str(file_count)+\"_\"+str(c)+\".wav\", aug_audio2, sr, 'PCM_16')\n",
    "\n",
    "                aug_audio, sr = audaugs.low_pass_filter(x,sample_rate=sr,cutoff_hz=1000)\n",
    "                c = c+1\n",
    "                sf.write(aug_directory +\"/\" + str(subdirectory)+\"/\"+str(subdirectory)+\"_\"+str(file_count)+\"_\"+str(c)+\".wav\", aug_audio, sr, 'PCM_16')\n",
    " \n",
    "                aug_audio, sr = audaugs.add_background_noise(x,background_audio= None, snr_level_db=5.0)\n",
    "                c = c+1\n",
    "                sf.write(aug_directory +\"/\" + str(subdirectory)+\"/\"+str(subdirectory)+\"_\"+str(file_count)+\"_\"+str(c)+\".wav\", aug_audio, sr, 'PCM_16')\n",
    "                \n",
    "                aug_audio, sr = audaugs.add_background_noise(x,background_audio= None, snr_level_db=10.0)\n",
    "                c = c+1\n",
    "                sf.write(aug_directory +\"/\" + str(subdirectory)+\"/\"+str(subdirectory)+\"_\"+str(file_count)+\"_\"+str(c)+\".wav\", aug_audio, sr, 'PCM_16')\n",
    "                \n",
    "                aug_audio, sr = audaugs.harmonic(x,sample_rate = sr,kernel_size=31, power = 2.0, margin = 1.0)\n",
    "                c = c+1\n",
    "                sf.write(aug_directory +\"/\" + str(subdirectory)+\"/\"+str(subdirectory)+\"_\"+str(file_count)+\"_\"+str(c)+\".wav\", aug_audio, sr, 'PCM_16')\n",
    "                \n",
    "                aug_audio, sr = audaugs.normalize(x,sample_rate = sr,axis = 0,threshold = 1.5)\n",
    "                c = c+1\n",
    "                sf.write(aug_directory +\"/\" + str(subdirectory)+\"/\"+str(subdirectory)+\"_\"+str(file_count)+\"_\"+str(c)+\".wav\", aug_audio, sr, 'PCM_16')\n",
    "                \n",
    "                aug_audio, sr = audaugs.percussive(x,sample_rate = sr,kernel_size= 31,power = 2.0,margin = 1.0)\n",
    "                c = c+1\n",
    "                sf.write(aug_directory +\"/\" + str(subdirectory)+\"/\"+str(subdirectory)+\"_\"+str(file_count)+\"_\"+str(c)+\".wav\", aug_audio, sr, 'PCM_16')\n",
    "                \n",
    "                aug_audio, sr = audaugs.speed(x,sample_rate = sr,factor = 1.2)\n",
    "                c = c+1\n",
    "                sf.write(aug_directory +\"/\" + str(subdirectory)+\"/\"+str(subdirectory)+\"_\"+str(file_count)+\"_\"+str(c)+\".wav\", aug_audio, sr, 'PCM_16')\n",
    "                \n",
    "                aug_audio, sr = audaugs.insert_in_background(x,offset_factor = 0.5,background_audio = None,seed = None)\n",
    "                \n",
    "                \n",
    "                aug_audio1 = aug_audio[0:3*44100]\n",
    "                c = c+1\n",
    "                sf.write(aug_directory +\"/\" + str(subdirectory)+\"/\"+str(subdirectory)+\"_\"+str(file_count)+\"_\"+str(c)+\".wav\", aug_audio1, sr, 'PCM_16')\n",
    "                \n",
    "                aug_audio2 = aug_audio[3*44100:6*44100]\n",
    "                c = c+1\n",
    "                sf.write(aug_directory +\"/\" + str(subdirectory)+\"/\"+str(subdirectory)+\"_\"+str(file_count)+\"_\"+str(c)+\".wav\", aug_audio2, sr, 'PCM_16')\n",
    "                \n",
    "                aug_audio, sr = audaugs.clicks(x,seconds_between_clicks= 0.5,snr_level_db = 20)\n",
    "                c = c+1\n",
    "                sf.write(aug_directory +\"/\" + str(subdirectory)+\"/\"+str(subdirectory)+\"_\"+str(file_count)+\"_\"+str(c)+\".wav\", aug_audio, sr, 'PCM_16')\n",
    "                \n",
    "                aug_audio, sr = audaugs.high_pass_filter(x,cutoff_hz= 5000.0)\n",
    "                c = c+1\n",
    "                sf.write(aug_directory +\"/\" + str(subdirectory)+\"/\"+str(subdirectory)+\"_\"+str(file_count)+\"_\"+str(c)+\".wav\", aug_audio, sr, 'PCM_16')\n",
    "\n",
    "                file_count = file_count + 1\n",
    "print(\"End of Augmentation....\")\n"
   ]
  },
  {
   "cell_type": "code",
   "execution_count": null,
   "id": "dc8bfe7b",
   "metadata": {},
   "outputs": [],
   "source": []
  }
 ],
 "metadata": {
  "kernelspec": {
   "display_name": "Python 3",
   "language": "python",
   "name": "python3"
  },
  "language_info": {
   "codemirror_mode": {
    "name": "ipython",
    "version": 3
   },
   "file_extension": ".py",
   "mimetype": "text/x-python",
   "name": "python",
   "nbconvert_exporter": "python",
   "pygments_lexer": "ipython3",
   "version": "3.8.8"
  }
 },
 "nbformat": 4,
 "nbformat_minor": 5
}
